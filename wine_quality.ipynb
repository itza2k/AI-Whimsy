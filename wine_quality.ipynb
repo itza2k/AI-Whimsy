{
  "cells": [
    {
      "cell_type": "code",
      "source": [
        "import pandas as pd\n",
        "from sklearn.model_selection import train_test_split\n",
        "from sklearn.tree import DecisionTreeRegressor\n",
        "from sklearn.ensemble import RandomForestRegressor\n",
        "from sklearn.metrics import mean_squared_error, confusion_matrix, accuracy_score\n",
        "import numpy as np\n",
        "\n",
        "file_path = '/content/winequality-red.csv'\n",
        "wine_data = pd.read_csv(file_path)\n",
        "\n",
        "X = wine_data.drop('quality', axis=1)\n",
        "y = wine_data['quality']\n",
        "\n",
        "X_train, X_test, y_train, y_test = train_test_split(X, y, test_size=0.2, random_state=42)\n",
        "\n",
        "\n",
        "\n",
        "rf_model = RandomForestRegressor(random_state=42, n_estimators=100)\n",
        "rf_model.fit(X_train, y_train)\n",
        "rf_predictions = rf_model.predict(X_test)\n",
        "rf_mse = mean_squared_error(y_test, rf_predictions)\n",
        "print(f\"Random Forest Mean Squared Error: {rf_mse}\")\n",
        "\n",
        "rf_predictions_rounded = np.round(rf_predictions)\n",
        "\n",
        "rf_cm = confusion_matrix(y_test, rf_predictions_rounded)\n",
        "\n",
        "\n",
        "print(\"\\nRandom Forest Confusion Matrix:\")\n",
        "print(rf_cm)\n",
        "\n",
        "rf_accuracy = accuracy_score(y_test, rf_predictions_rounded)\n",
        "\n",
        "print(f\"Random Forest Accuracy: {rf_accuracy}\")"
      ],
      "metadata": {
        "id": "YXeHu2UELfbB",
        "outputId": "4509a673-c88d-44ad-fb1f-c2df82ab1b7f",
        "colab": {
          "base_uri": "https://localhost:8080/"
        }
      },
      "execution_count": null,
      "outputs": [
        {
          "output_type": "stream",
          "name": "stdout",
          "text": [
            "Random Forest Mean Squared Error: 0.30123812499999997\n",
            "\n",
            "Random Forest Confusion Matrix:\n",
            "[[ 0  0  1  0  0  0]\n",
            " [ 0  0  9  1  0  0]\n",
            " [ 0  0 99 30  1  0]\n",
            " [ 0  0 34 87 11  0]\n",
            " [ 0  0  0 25 17  0]\n",
            " [ 0  0  0  2  3  0]]\n",
            "Random Forest Accuracy: 0.634375\n"
          ]
        }
      ]
    }
  ],
  "metadata": {
    "colab": {
      "provenance": [],
      "gpuType": "T4"
    },
    "kernelspec": {
      "display_name": "Python 3",
      "name": "python3"
    },
    "accelerator": "GPU"
  },
  "nbformat": 4,
  "nbformat_minor": 0
}